{
 "cells": [
  {
   "cell_type": "code",
   "execution_count": 1,
   "id": "51dc8e31-6309-4854-bccf-c0042cff4308",
   "metadata": {},
   "outputs": [
    {
     "name": "stdout",
     "output_type": "stream",
     "text": [
      "Hello World\n"
     ]
    }
   ],
   "source": [
    "print(\"Hello World\")"
   ]
  },
  {
   "cell_type": "code",
   "execution_count": 2,
   "id": "cfce53e9-416a-47c6-8d37-e5be9d84aa9e",
   "metadata": {},
   "outputs": [],
   "source": [
    "import numpy as np"
   ]
  },
  {
   "cell_type": "code",
   "execution_count": 3,
   "id": "ccf40cfc-da2c-432e-bcc1-885b0269057b",
   "metadata": {},
   "outputs": [
    {
     "name": "stdout",
     "output_type": "stream",
     "text": [
      "[1 2 3 4]\n"
     ]
    }
   ],
   "source": [
    "a=np.array([1,2,3,4])\n",
    "print(a)"
   ]
  },
  {
   "cell_type": "code",
   "execution_count": 4,
   "id": "ba178c2c-2d5c-499e-892b-5e6ccdcd875f",
   "metadata": {},
   "outputs": [
    {
     "name": "stdout",
     "output_type": "stream",
     "text": [
      "Array a :  [1 2 3 4]\n",
      "Array a : [1 2 3 4]\n",
      "Array a : [1 2 3 4]\n"
     ]
    }
   ],
   "source": [
    "print(\"Array a : \",a)\n",
    "print(f\"Array a : {a}\")\n",
    "print(\"Array a : {}\".format(a))"
   ]
  },
  {
   "cell_type": "code",
   "execution_count": 5,
   "id": "4b88e23b-4456-44e9-a647-f8f879ec409f",
   "metadata": {},
   "outputs": [
    {
     "name": "stdout",
     "output_type": "stream",
     "text": [
      "ndim a : 1\n"
     ]
    }
   ],
   "source": [
    "#dimesion of an array\n",
    "print(f\"ndim a : {a.ndim}\")      "
   ]
  },
  {
   "cell_type": "code",
   "execution_count": 6,
   "id": "e7eebf80-b1f2-4b1b-a881-55077020bfd9",
   "metadata": {},
   "outputs": [
    {
     "name": "stdout",
     "output_type": "stream",
     "text": [
      "size a : 4\n"
     ]
    }
   ],
   "source": [
    "#size of an element of an array\n",
    "print(f\"size a : {a.size}\")     "
   ]
  },
  {
   "cell_type": "code",
   "execution_count": 7,
   "id": "25e5765b-a531-4000-b767-9f6a1bd55b96",
   "metadata": {},
   "outputs": [
    {
     "name": "stdout",
     "output_type": "stream",
     "text": [
      "shape a : (4,)\n"
     ]
    }
   ],
   "source": [
    "#shape of an array\n",
    "print(f\"shape a : {a.shape}\")     "
   ]
  },
  {
   "cell_type": "code",
   "execution_count": 8,
   "id": "c1dfbcd6-4721-4254-9b8b-15ac118662b4",
   "metadata": {},
   "outputs": [
    {
     "name": "stdout",
     "output_type": "stream",
     "text": [
      "dtype a : int32\n"
     ]
    }
   ],
   "source": [
    "#data type of an array\n",
    "print(f\"dtype a : {a.dtype}\")     "
   ]
  },
  {
   "cell_type": "code",
   "execution_count": 9,
   "id": "bd063e77-025f-4e73-99c2-94bc86cf0d52",
   "metadata": {},
   "outputs": [
    {
     "name": "stdout",
     "output_type": "stream",
     "text": [
      "itemsize a : 4\n"
     ]
    }
   ],
   "source": [
    "#itemsize of an array\n",
    "print(f\"itemsize a : {a.itemsize}\")     "
   ]
  },
  {
   "cell_type": "code",
   "execution_count": 10,
   "id": "badd19e7-f558-4507-bac7-11d69f2a85cf",
   "metadata": {},
   "outputs": [
    {
     "name": "stdout",
     "output_type": "stream",
     "text": [
      "[[1 2 3 4]\n",
      " [5 6 7 8]]\n"
     ]
    }
   ],
   "source": [
    "#two dimesional array\n",
    "a=np.array([[1,2,3,4],[5,6,7,8]])   \n",
    "print(a)"
   ]
  },
  {
   "cell_type": "code",
   "execution_count": 11,
   "id": "2eb24313-e666-4b60-8df8-46cbfbce0374",
   "metadata": {},
   "outputs": [
    {
     "name": "stdout",
     "output_type": "stream",
     "text": [
      "[[ 2  4  6  8]\n",
      " [ 6  8 10 12]]\n"
     ]
    }
   ],
   "source": [
    "#adding an array\n",
    "b=np.array([1,2,3,4])\n",
    "c=np.add(a,b)     \n",
    "print(c)"
   ]
  },
  {
   "cell_type": "code",
   "execution_count": 12,
   "id": "886a1e66-db46-4761-bfeb-d5dbe2346a0b",
   "metadata": {},
   "outputs": [
    {
     "name": "stdout",
     "output_type": "stream",
     "text": [
      "[[1 2 3 4]\n",
      " [5 6 7 8]]\n",
      "[[ 2  4  6  8]\n",
      " [ 6  8 10 12]]\n",
      "[[0 0 0 0]\n",
      " [4 4 4 4]]\n",
      "[[ 1  4  9 16]\n",
      " [ 5 12 21 32]]\n",
      "[[1.         1.         1.         1.        ]\n",
      " [5.         3.         2.33333333 2.        ]]\n",
      "[[   1    4   27  256]\n",
      " [   5   36  343 4096]]\n",
      "[[0 0 0 0]\n",
      " [0 0 1 0]]\n",
      "[[0 0 0 0]\n",
      " [0 0 1 0]]\n",
      "[[1 2 3 4]\n",
      " [5 6 7 8]]\n"
     ]
    }
   ],
   "source": [
    "#operating on an array with add, subtract, multiply, divide, etc...\n",
    "f=np.array([[1,2,3,4],[5,6,7,8]])   \n",
    "c=np.add(a,b)\n",
    "d=np.subtract(a,b)\n",
    "e=np.multiply(a,b)\n",
    "g=np.divide(a,b)\n",
    "h=np.power(a,b)\n",
    "i=np.mod(a,b)\n",
    "j=np.remainder(a,b)\n",
    "k=np.absolute(a)\n",
    "print(f)\n",
    "print(c)\n",
    "print(d)\n",
    "print(e)\n",
    "print(g)\n",
    "print(h)\n",
    "print(i)\n",
    "print(j)\n",
    "print(k)"
   ]
  },
  {
   "cell_type": "code",
   "execution_count": 13,
   "id": "661cf25c-2289-466b-8e47-d36aebd26bf0",
   "metadata": {},
   "outputs": [
    {
     "name": "stdout",
     "output_type": "stream",
     "text": [
      "['Aditya' 'Mili' 'Jagrat' 'Parth' 'Krishna' 'Janvi' 'Dax']\n"
     ]
    }
   ],
   "source": [
    "#srting in an array\n",
    "y=np.array(['Aditya','Mili','Jagrat','Parth','Krishna','Janvi','Dax'])  \n",
    "print(y)"
   ]
  },
  {
   "cell_type": "code",
   "execution_count": 14,
   "id": "5abdbc3c-e7c4-48c0-9718-2e19ad1f4e04",
   "metadata": {},
   "outputs": [
    {
     "name": "stdout",
     "output_type": "stream",
     "text": [
      "[[0. 0. 0.]\n",
      " [0. 0. 0.]]\n"
     ]
    }
   ],
   "source": [
    "#setting zeros in an array\n",
    "z=np.zeros((2,3))   \n",
    "print(z)"
   ]
  },
  {
   "cell_type": "code",
   "execution_count": 15,
   "id": "491fc714-260f-4354-bb56-368dc54db71d",
   "metadata": {},
   "outputs": [
    {
     "name": "stdout",
     "output_type": "stream",
     "text": [
      "[[1. 1. 1.]\n",
      " [1. 1. 1.]\n",
      " [1. 1. 1.]]\n"
     ]
    }
   ],
   "source": [
    "#Setting one in an array\n",
    "one=np.ones((3,3))   \n",
    "print(one)"
   ]
  },
  {
   "cell_type": "code",
   "execution_count": 16,
   "id": "ef0901a5-ba0c-4daf-8236-9879eeb6f51d",
   "metadata": {},
   "outputs": [
    {
     "name": "stdout",
     "output_type": "stream",
     "text": [
      "[[2.12199579e-314 1.06736388e-311]\n",
      " [2.23317672e-321 1.06736388e-311]]\n"
     ]
    }
   ],
   "source": [
    "#empty\n",
    "empty=np.empty((2,2))  \n",
    "print(empty)"
   ]
  },
  {
   "cell_type": "code",
   "execution_count": 17,
   "id": "260580e9-4bf5-439e-a68d-464c5b973b7d",
   "metadata": {},
   "outputs": [
    {
     "name": "stdout",
     "output_type": "stream",
     "text": [
      "[1.  1.5 2.  2.5 3.  3.5 4.  4.5]\n"
     ]
    }
   ],
   "source": [
    "#arranging array\n",
    "ar=np.arange(1,5,0.5)  \n",
    "print(ar)"
   ]
  },
  {
   "cell_type": "code",
   "execution_count": 18,
   "id": "6bc74937-8cc5-4b6a-95dd-dbbaba829604",
   "metadata": {},
   "outputs": [
    {
     "name": "stdout",
     "output_type": "stream",
     "text": [
      "[1.         1.44444444 1.88888889 2.33333333 2.77777778 3.22222222\n",
      " 3.66666667 4.11111111 4.55555556 5.        ]\n"
     ]
    }
   ],
   "source": [
    "#linespace\n",
    "l=np.linspace(1,5,10)  \n",
    "print(l)"
   ]
  },
  {
   "cell_type": "code",
   "execution_count": 36,
   "id": "25809125-ce75-4cd4-a9c6-1271a5a6e97d",
   "metadata": {},
   "outputs": [
    {
     "name": "stdout",
     "output_type": "stream",
     "text": [
      "[[0.24323303 0.4346347  0.4728729 ]\n",
      " [0.26613219 0.31650001 0.02828841]]\n"
     ]
    }
   ],
   "source": [
    "r=np.random.random((2,3))     #random number printing in an array \n",
    "print(r)"
   ]
  },
  {
   "cell_type": "code",
   "execution_count": 20,
   "id": "63bdf1f2-cd13-4240-8a33-84d432f426c1",
   "metadata": {},
   "outputs": [
    {
     "name": "stdout",
     "output_type": "stream",
     "text": [
      "[[2 3 4]\n",
      " [6 7 8]]\n",
      "sliced_arr : [[2 3]\n",
      " [6 7]]\n"
     ]
    }
   ],
   "source": [
    "a=np.array([[2,3,4],[6,7,8]])\n",
    "print(a)\n",
    "sliced_arr=a[:2,:2]\n",
    "print(f\"sliced_arr : {sliced_arr}\")     #Slicing an array"
   ]
  },
  {
   "cell_type": "code",
   "execution_count": 21,
   "id": "bef07ee9-f6ae-49e9-8cf2-f43cb07cc634",
   "metadata": {},
   "outputs": [
    {
     "name": "stdout",
     "output_type": "stream",
     "text": [
      "[6 3]\n"
     ]
    }
   ],
   "source": [
    "indexed_arr=a[[1,0],[0,1]]\n",
    "print(indexed_arr)     #indexing an array"
   ]
  },
  {
   "cell_type": "code",
   "execution_count": 22,
   "id": "7ecf20af-6cec-493e-8759-ff5f833186fb",
   "metadata": {},
   "outputs": [
    {
     "name": "stdout",
     "output_type": "stream",
     "text": [
      "30\n"
     ]
    }
   ],
   "source": [
    "print(a.sum())     #sum of an array"
   ]
  },
  {
   "cell_type": "code",
   "execution_count": 23,
   "id": "da7bde8a-26c9-439d-88ac-e063007e80d2",
   "metadata": {},
   "outputs": [
    {
     "name": "stdout",
     "output_type": "stream",
     "text": [
      "[5.         6.70820393 7.48331477 9.        ]\n"
     ]
    }
   ],
   "source": [
    "a1=np.array([25,45,56,81])\n",
    "print(np.sqrt(a1))     #sqrt of an array"
   ]
  },
  {
   "cell_type": "code",
   "execution_count": 24,
   "id": "0b8528c7-0d34-4534-acb1-70920810566b",
   "metadata": {},
   "outputs": [
    {
     "name": "stdout",
     "output_type": "stream",
     "text": [
      "[[ 7  8  9]\n",
      " [11 12 13]]\n"
     ]
    }
   ],
   "source": [
    "b=a+5\n",
    "print(b)     #adding value to an array"
   ]
  },
  {
   "cell_type": "code",
   "execution_count": 25,
   "id": "d52d5bfc-4495-45d9-be19-32ccd2bc47a8",
   "metadata": {},
   "outputs": [
    {
     "name": "stdout",
     "output_type": "stream",
     "text": [
      "[[ 30  42  51]\n",
      " [ 75 102 123]\n",
      " [120 162 195]]\n"
     ]
    }
   ],
   "source": [
    "m1=np.array([[1,2,3],[4,5,6],[7,8,9]])\n",
    "m2=np.array([[4,5,6],[7,8,9],[4,7,9]])\n",
    "m3=np.dot(m1,m2)     #multiplying an array using dot\n",
    "print(m3)"
   ]
  },
  {
   "cell_type": "code",
   "execution_count": 26,
   "id": "dc3fc3b6-8dba-44b4-96e5-896a3d30b842",
   "metadata": {},
   "outputs": [
    {
     "name": "stdout",
     "output_type": "stream",
     "text": [
      "any() with axis none  True\n",
      "any() with axis = 0  [ True  True False]\n",
      "any() with axis = 1  [ True  True]\n"
     ]
    }
   ],
   "source": [
    "bool=np.array([[True,True,False],[True,False,False]])     #OR Operator used in numpy as any()\n",
    "print(\"any() with axis none \",np.any(bool))\n",
    "print(\"any() with axis = 0 \",np.any(bool,axis=0))\n",
    "print(\"any() with axis = 1 \",np.any(bool,axis=1))"
   ]
  },
  {
   "cell_type": "code",
   "execution_count": 27,
   "id": "6856950d-4a48-438d-ad76-08c31daba578",
   "metadata": {},
   "outputs": [
    {
     "name": "stdout",
     "output_type": "stream",
     "text": [
      "all() with axis none  False\n",
      "all() with axis = 0  [ True False False]\n",
      "all() with axis = 1  [False False]\n"
     ]
    }
   ],
   "source": [
    "bool=np.array([[True,True,False],[True,False,False]])     #And Operator used in numpy as all()\n",
    "print(\"all() with axis none \",np.all(bool))\n",
    "print(\"all() with axis = 0 \",np.all(bool,axis=0))\n",
    "print(\"all() with axis = 1 \",np.all(bool,axis=1))"
   ]
  },
  {
   "cell_type": "code",
   "execution_count": 28,
   "id": "20cc57a9-91e6-48f0-8a70-fe0ca8867ab1",
   "metadata": {},
   "outputs": [
    {
     "name": "stdout",
     "output_type": "stream",
     "text": [
      "[0 1 2 3 4 5 6 7]\n",
      "[[0 1 2 3]\n",
      " [4 5 6 7]]\n"
     ]
    }
   ],
   "source": [
    "a1=np.arange(8)     #giving a range upto 8 elements\n",
    "print(a1)\n",
    "re=a1.reshape(2,4)     #Reshaping an element of an array into 2rows & 4columns\n",
    "print(re)"
   ]
  },
  {
   "cell_type": "code",
   "execution_count": 29,
   "id": "b7a52b7d-d18c-4c4b-a272-a79259d435c2",
   "metadata": {},
   "outputs": [
    {
     "name": "stdout",
     "output_type": "stream",
     "text": [
      "[[1 2 3]\n",
      " [4 5 6]\n",
      " [7 8 9]]\n",
      "[[4 5 6]\n",
      " [7 8 9]\n",
      " [4 7 9]]\n",
      "[[ 30  42  51]\n",
      " [ 75 102 123]\n",
      " [120 162 195]]\n"
     ]
    }
   ],
   "source": [
    "print(m1)     #printing m1\n",
    "print(m2)     #printing m2\n",
    "print(m3)     #printing m3"
   ]
  },
  {
   "cell_type": "code",
   "execution_count": 30,
   "id": "f4d802c8-84d3-4540-9a9a-ed3d64e52bc4",
   "metadata": {},
   "outputs": [
    {
     "name": "stdout",
     "output_type": "stream",
     "text": [
      "[[  1   2   3]\n",
      " [  4   5   6]\n",
      " [  7   8   9]\n",
      " [  4   5   6]\n",
      " [  7   8   9]\n",
      " [  4   7   9]\n",
      " [ 30  42  51]\n",
      " [ 75 102 123]\n",
      " [120 162 195]]\n"
     ]
    }
   ],
   "source": [
    "v=np.vstack((m1,m2,m3))     #printing Vertical stack\n",
    "print(v)"
   ]
  },
  {
   "cell_type": "code",
   "execution_count": 31,
   "id": "eba5b23a-aed2-4d9f-900d-44adac19d7ef",
   "metadata": {},
   "outputs": [
    {
     "name": "stdout",
     "output_type": "stream",
     "text": [
      "[[  1   2   3   4   5   6  30  42  51]\n",
      " [  4   5   6   7   8   9  75 102 123]\n",
      " [  7   8   9   4   7   9 120 162 195]]\n"
     ]
    }
   ],
   "source": [
    "h=np.hstack((m1,m2,m3))     #Printing Horizontal Stack\n",
    "print(h)"
   ]
  },
  {
   "cell_type": "code",
   "execution_count": 32,
   "id": "6bf43d97-a9fa-4885-999b-7a1d3944e630",
   "metadata": {},
   "outputs": [
    {
     "name": "stdout",
     "output_type": "stream",
     "text": [
      "[array([[1, 2, 3],\n",
      "       [4, 5, 6],\n",
      "       [7, 8, 9]]), array([[4, 5, 6],\n",
      "       [7, 8, 9],\n",
      "       [4, 7, 9]]), array([[ 30,  42,  51],\n",
      "       [ 75, 102, 123],\n",
      "       [120, 162, 195]])]\n"
     ]
    }
   ],
   "source": [
    "hsplit=np.hsplit(h,3)     #splitting horizontally\n",
    "print(hsplit)"
   ]
  },
  {
   "cell_type": "code",
   "execution_count": 33,
   "id": "4ab5e7a9-edce-4d38-acd1-6b39ba038633",
   "metadata": {},
   "outputs": [
    {
     "name": "stdout",
     "output_type": "stream",
     "text": [
      "[array([[ 1,  2,  3,  4,  5,  6, 30, 42, 51]]), array([[  4,   5,   6,   7,   8,   9,  75, 102, 123]]), array([[  7,   8,   9,   4,   7,   9, 120, 162, 195]])]\n"
     ]
    }
   ],
   "source": [
    "vsplit=np.vsplit(h,3)     #Splitting Vertically\n",
    "print(vsplit)"
   ]
  },
  {
   "cell_type": "code",
   "execution_count": 34,
   "id": "d3cd65f6-7638-4273-b3bc-14a348c772c3",
   "metadata": {},
   "outputs": [
    {
     "name": "stdout",
     "output_type": "stream",
     "text": [
      "sqrt :  [4.79583152 5.83095189 6.70820393 8.18535277]\n",
      "exp  :  [9.74480345e+09 5.83461743e+14 3.49342711e+19 1.25236317e+29]\n",
      "sin  :  [-0.8462204   0.52908269  0.85090352 -0.85551998]\n",
      "cos  :  [-0.53283302 -0.84857027  0.52532199 -0.5177698 ]\n",
      "log  :  [3.13549422 3.52636052 3.80666249 4.20469262]\n",
      "sum  :  169\n",
      "std  :  16.269219403523945\n"
     ]
    }
   ],
   "source": [
    "arr=np.array([23,34,45,67])\n",
    "print(\"sqrt : \",np.sqrt(arr)) #Return the Square root of each element\n",
    "print(\"exp  : \",np.exp(arr))  #Return the Exponentials of each element\n",
    "print(\"sin  : \",np.sin(arr))  #Return the Sin of each element\n",
    "print(\"cos  : \",np.cos(arr))  #Return the Cosine of each element\n",
    "print(\"log  : \",np.log(arr))  #Return the Logarithm of each element\n",
    "print(\"sum  : \",np.sum(arr))  #Return the Sum of each element\n",
    "print(\"std  : \",np.std(arr))  #Return the Standard Deviation of each element"
   ]
  },
  {
   "cell_type": "code",
   "execution_count": 35,
   "id": "7427f978-97e7-45fd-ac35-9a3011b37f6d",
   "metadata": {},
   "outputs": [
    {
     "name": "stdout",
     "output_type": "stream",
     "text": [
      "Random : [0.07466949 0.05170022 0.52509163 0.37794023 0.76749048 0.71017467\n",
      " 0.22857409 0.77986629 0.61086049 0.25171391 0.93062862 0.13494146\n",
      " 0.37370088 0.80888101 0.61489872 0.8506399  0.34814723 0.26955659\n",
      " 0.06456865 0.16710519]\n",
      "\n",
      "Rand : [[0.86829916 0.30781247 0.31748311 0.04467527]\n",
      " [0.83818517 0.69268568 0.4763982  0.32936644]\n",
      " [0.21146011 0.28666236 0.98763698 0.30397651]]\n",
      "\n",
      "Randint : [45 65 20  4 30 60 27 85 76 48 24 15 71 41 49 41 90 12  5 23]\n",
      "\n",
      "Permutation : [ 8  2 14  1 19 13  9 11  4  6  5 18 16 10 17  3 15  7 12  0]\n",
      "\n"
     ]
    }
   ],
   "source": [
    "print(\"Random : {}\\n\".format(np.random.random(20)))     #20 Random numbers\n",
    "print(\"Rand : {}\\n\".format(np.random.rand(3,4)))     #Random numbers in an array of 3rows and 4columns\n",
    "print(\"Randint : {}\\n\".format(np.random.randint(0,100,20)))     #printing 20 random numbers between 0 to 100\n",
    "print(\"Permutation : {}\\n\".format(np.random.permutation(np.arange(20))))     #printing random numbers permutated "
   ]
  }
 ],
 "metadata": {
  "kernelspec": {
   "display_name": "Python 3 (ipykernel)",
   "language": "python",
   "name": "python3"
  },
  "language_info": {
   "codemirror_mode": {
    "name": "ipython",
    "version": 3
   },
   "file_extension": ".py",
   "mimetype": "text/x-python",
   "name": "python",
   "nbconvert_exporter": "python",
   "pygments_lexer": "ipython3",
   "version": "3.11.4"
  }
 },
 "nbformat": 4,
 "nbformat_minor": 5
}
