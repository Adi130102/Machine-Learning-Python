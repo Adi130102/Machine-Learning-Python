{
 "cells": [
  {
   "cell_type": "code",
   "execution_count": 2,
   "id": "861c39b3-a9ec-4031-b2d6-726bf2c0de68",
   "metadata": {},
   "outputs": [],
   "source": [
    "import pandas as pd\n",
    "import matplotlib.pyplot as plt"
   ]
  },
  {
   "cell_type": "code",
   "execution_count": 3,
   "id": "517c8b39-ad4c-4252-8e4e-a8cc2c1cabf1",
   "metadata": {},
   "outputs": [
    {
     "name": "stdout",
     "output_type": "stream",
     "text": [
      "     Unnamed: 0.3  Unnamed: 0.2  Unnamed: 0.1  Unnamed: 0    #  \\\n",
      "0               0             0             0           0    1   \n",
      "1               1             1             1           1    2   \n",
      "2               2             2             2           2    3   \n",
      "3               3             3             3           3    3   \n",
      "4               4             4             4           4    4   \n",
      "..            ...           ...           ...         ...  ...   \n",
      "795           795           795           795         795  719   \n",
      "796           796           796           796         796  719   \n",
      "797           797           797           797         797  720   \n",
      "798           798           798           798         798  720   \n",
      "799           799           799           799         799  721   \n",
      "\n",
      "                      Name   Type 1  Type 2  Total  HP  Attack  Defense  \\\n",
      "0                Bulbasaur    Grass  Poison    318  45      49       49   \n",
      "1                  Ivysaur    Grass  Poison    405  60      62       63   \n",
      "2                 Venusaur    Grass  Poison    525  80      82       83   \n",
      "3    VenusaurMega Venusaur    Grass  Poison    625  80     100      123   \n",
      "4               Charmander     Fire      10    309  39      52       43   \n",
      "..                     ...      ...     ...    ...  ..     ...      ...   \n",
      "795                Diancie     Rock   Fairy    600  50     100      150   \n",
      "796    DiancieMega Diancie     Rock   Fairy    700  50     160      110   \n",
      "797    HoopaHoopa Confined  Psychic   Ghost    600  80     110       60   \n",
      "798     HoopaHoopa Unbound  Psychic    Dark    680  80     160       60   \n",
      "799              Volcanion     Fire   Water    600  80     110      120   \n",
      "\n",
      "     Sp. Atk  Sp. Def  Speed  Generation  Legendary    avg   avg1  \n",
      "0         65       65     45           1      False   71.5   71.5  \n",
      "1         80       80     60           1      False   92.5   92.5  \n",
      "2        100      100     80           1      False  122.5  122.5  \n",
      "3        122      120     80           1      False  151.5  151.5  \n",
      "4         60       50     65           1      False   67.0   67.0  \n",
      "..       ...      ...    ...         ...        ...    ...    ...  \n",
      "795      100      150     50           6       True  150.0  150.0  \n",
      "796      160      110    110           6       True  160.0  160.0  \n",
      "797      150      130     70           6       True  125.0  125.0  \n",
      "798      170      130     80           6       True  150.0  150.0  \n",
      "799      130       90     70           6       True  155.0  155.0  \n",
      "\n",
      "[800 rows x 19 columns]\n"
     ]
    }
   ],
   "source": [
    "pk=pd.read_csv(\"pokemon.csv\")\n",
    "print(pk)"
   ]
  },
  {
   "cell_type": "code",
   "execution_count": 4,
   "id": "75541e10-351a-4e48-8b93-2b8ec6b15727",
   "metadata": {},
   "outputs": [
    {
     "data": {
      "text/html": [
       "<div>\n",
       "<style scoped>\n",
       "    .dataframe tbody tr th:only-of-type {\n",
       "        vertical-align: middle;\n",
       "    }\n",
       "\n",
       "    .dataframe tbody tr th {\n",
       "        vertical-align: top;\n",
       "    }\n",
       "\n",
       "    .dataframe thead th {\n",
       "        text-align: right;\n",
       "    }\n",
       "</style>\n",
       "<table border=\"1\" class=\"dataframe\">\n",
       "  <thead>\n",
       "    <tr style=\"text-align: right;\">\n",
       "      <th></th>\n",
       "      <th>Unnamed: 0.3</th>\n",
       "      <th>Unnamed: 0.2</th>\n",
       "      <th>Unnamed: 0.1</th>\n",
       "      <th>Unnamed: 0</th>\n",
       "      <th>#</th>\n",
       "      <th>Name</th>\n",
       "      <th>Type 1</th>\n",
       "      <th>Type 2</th>\n",
       "      <th>Total</th>\n",
       "      <th>HP</th>\n",
       "      <th>Attack</th>\n",
       "      <th>Defense</th>\n",
       "      <th>Sp. Atk</th>\n",
       "      <th>Sp. Def</th>\n",
       "      <th>Speed</th>\n",
       "      <th>Generation</th>\n",
       "      <th>Legendary</th>\n",
       "      <th>avg</th>\n",
       "      <th>avg1</th>\n",
       "    </tr>\n",
       "  </thead>\n",
       "  <tbody>\n",
       "    <tr>\n",
       "      <th>0</th>\n",
       "      <td>0</td>\n",
       "      <td>0</td>\n",
       "      <td>0</td>\n",
       "      <td>0</td>\n",
       "      <td>1</td>\n",
       "      <td>Bulbasaur</td>\n",
       "      <td>Grass</td>\n",
       "      <td>Poison</td>\n",
       "      <td>318</td>\n",
       "      <td>45</td>\n",
       "      <td>49</td>\n",
       "      <td>49</td>\n",
       "      <td>65</td>\n",
       "      <td>65</td>\n",
       "      <td>45</td>\n",
       "      <td>1</td>\n",
       "      <td>False</td>\n",
       "      <td>71.5</td>\n",
       "      <td>71.5</td>\n",
       "    </tr>\n",
       "    <tr>\n",
       "      <th>1</th>\n",
       "      <td>1</td>\n",
       "      <td>1</td>\n",
       "      <td>1</td>\n",
       "      <td>1</td>\n",
       "      <td>2</td>\n",
       "      <td>Ivysaur</td>\n",
       "      <td>Grass</td>\n",
       "      <td>Poison</td>\n",
       "      <td>405</td>\n",
       "      <td>60</td>\n",
       "      <td>62</td>\n",
       "      <td>63</td>\n",
       "      <td>80</td>\n",
       "      <td>80</td>\n",
       "      <td>60</td>\n",
       "      <td>1</td>\n",
       "      <td>False</td>\n",
       "      <td>92.5</td>\n",
       "      <td>92.5</td>\n",
       "    </tr>\n",
       "    <tr>\n",
       "      <th>2</th>\n",
       "      <td>2</td>\n",
       "      <td>2</td>\n",
       "      <td>2</td>\n",
       "      <td>2</td>\n",
       "      <td>3</td>\n",
       "      <td>Venusaur</td>\n",
       "      <td>Grass</td>\n",
       "      <td>Poison</td>\n",
       "      <td>525</td>\n",
       "      <td>80</td>\n",
       "      <td>82</td>\n",
       "      <td>83</td>\n",
       "      <td>100</td>\n",
       "      <td>100</td>\n",
       "      <td>80</td>\n",
       "      <td>1</td>\n",
       "      <td>False</td>\n",
       "      <td>122.5</td>\n",
       "      <td>122.5</td>\n",
       "    </tr>\n",
       "    <tr>\n",
       "      <th>3</th>\n",
       "      <td>3</td>\n",
       "      <td>3</td>\n",
       "      <td>3</td>\n",
       "      <td>3</td>\n",
       "      <td>3</td>\n",
       "      <td>VenusaurMega Venusaur</td>\n",
       "      <td>Grass</td>\n",
       "      <td>Poison</td>\n",
       "      <td>625</td>\n",
       "      <td>80</td>\n",
       "      <td>100</td>\n",
       "      <td>123</td>\n",
       "      <td>122</td>\n",
       "      <td>120</td>\n",
       "      <td>80</td>\n",
       "      <td>1</td>\n",
       "      <td>False</td>\n",
       "      <td>151.5</td>\n",
       "      <td>151.5</td>\n",
       "    </tr>\n",
       "    <tr>\n",
       "      <th>4</th>\n",
       "      <td>4</td>\n",
       "      <td>4</td>\n",
       "      <td>4</td>\n",
       "      <td>4</td>\n",
       "      <td>4</td>\n",
       "      <td>Charmander</td>\n",
       "      <td>Fire</td>\n",
       "      <td>10</td>\n",
       "      <td>309</td>\n",
       "      <td>39</td>\n",
       "      <td>52</td>\n",
       "      <td>43</td>\n",
       "      <td>60</td>\n",
       "      <td>50</td>\n",
       "      <td>65</td>\n",
       "      <td>1</td>\n",
       "      <td>False</td>\n",
       "      <td>67.0</td>\n",
       "      <td>67.0</td>\n",
       "    </tr>\n",
       "  </tbody>\n",
       "</table>\n",
       "</div>"
      ],
      "text/plain": [
       "   Unnamed: 0.3  Unnamed: 0.2  Unnamed: 0.1  Unnamed: 0  #  \\\n",
       "0             0             0             0           0  1   \n",
       "1             1             1             1           1  2   \n",
       "2             2             2             2           2  3   \n",
       "3             3             3             3           3  3   \n",
       "4             4             4             4           4  4   \n",
       "\n",
       "                    Name Type 1  Type 2  Total  HP  Attack  Defense  Sp. Atk  \\\n",
       "0              Bulbasaur  Grass  Poison    318  45      49       49       65   \n",
       "1                Ivysaur  Grass  Poison    405  60      62       63       80   \n",
       "2               Venusaur  Grass  Poison    525  80      82       83      100   \n",
       "3  VenusaurMega Venusaur  Grass  Poison    625  80     100      123      122   \n",
       "4             Charmander   Fire      10    309  39      52       43       60   \n",
       "\n",
       "   Sp. Def  Speed  Generation  Legendary    avg   avg1  \n",
       "0       65     45           1      False   71.5   71.5  \n",
       "1       80     60           1      False   92.5   92.5  \n",
       "2      100     80           1      False  122.5  122.5  \n",
       "3      120     80           1      False  151.5  151.5  \n",
       "4       50     65           1      False   67.0   67.0  "
      ]
     },
     "execution_count": 4,
     "metadata": {},
     "output_type": "execute_result"
    }
   ],
   "source": [
    "pk['avg1']=(pk['HP']+pk['Attack']+pk['Defense'])/2 #create new column named avg with average value of this field\n",
    "pk.head(5)"
   ]
  },
  {
   "cell_type": "code",
   "execution_count": 5,
   "id": "c50aae60-f1c4-4b1c-830f-64c9e73d4a16",
   "metadata": {},
   "outputs": [
    {
     "name": "stdout",
     "output_type": "stream",
     "text": [
      "435.1025\n"
     ]
    }
   ],
   "source": [
    "m=pk[\"Total\"].mean() #give mean of data\n",
    "print(m)"
   ]
  },
  {
   "cell_type": "code",
   "execution_count": 6,
   "id": "16a2e566-93f7-49ff-be09-8404ce626782",
   "metadata": {},
   "outputs": [
    {
     "name": "stdout",
     "output_type": "stream",
     "text": [
      "450.0\n"
     ]
    }
   ],
   "source": [
    "m=pk[\"Total\"].median() #give median of data\n",
    "print(m)"
   ]
  },
  {
   "cell_type": "code",
   "execution_count": 7,
   "id": "708f3122-8ed2-4e70-a627-ba7f5375c9c2",
   "metadata": {},
   "outputs": [
    {
     "name": "stdout",
     "output_type": "stream",
     "text": [
      "0    100\n",
      "Name: Attack, dtype: int64\n"
     ]
    }
   ],
   "source": [
    "m=pk[\"Attack\"].mode() #give mode of data\n",
    "print(m)"
   ]
  },
  {
   "cell_type": "code",
   "execution_count": 8,
   "id": "41eecc47-ea6e-4f8b-b83a-52f72e25560f",
   "metadata": {},
   "outputs": [
    {
     "name": "stdout",
     "output_type": "stream",
     "text": [
      "   Unnamed: 0.3  Unnamed: 0.2  Unnamed: 0.1  Unnamed: 0  #  \\\n",
      "0             0             0             0           0  1   \n",
      "1             1             1             1           1  2   \n",
      "2             2             2             2           2  3   \n",
      "3             3             3             3           3  3   \n",
      "4             4             4             4           4  4   \n",
      "\n",
      "                    Name Type 1  Type 2  Total  HP  Attack  Defense  Sp. Atk  \\\n",
      "0              Bulbasaur  Grass  Poison    318  45      49       49       65   \n",
      "1                Ivysaur  Grass  Poison    405  60      62       63       80   \n",
      "2               Venusaur  Grass  Poison    525  80      82       83      100   \n",
      "3  VenusaurMega Venusaur  Grass  Poison    625  80     100      123      122   \n",
      "4             Charmander   Fire      10    309  39      52       43       60   \n",
      "\n",
      "   Sp. Def  Speed  Generation  Legendary    avg   avg1  \n",
      "0       65     45           1      False   71.5   71.5  \n",
      "1       80     60           1      False   92.5   92.5  \n",
      "2      100     80           1      False  122.5  122.5  \n",
      "3      120     80           1      False  151.5  151.5  \n",
      "4       50     65           1      False   67.0   67.0  \n"
     ]
    }
   ],
   "source": [
    "print(pk.head())#to fetch first 5 records"
   ]
  },
  {
   "cell_type": "code",
   "execution_count": 9,
   "id": "9bfcd32f-6cdb-4bba-8cd8-667832a6d223",
   "metadata": {},
   "outputs": [
    {
     "name": "stdout",
     "output_type": "stream",
     "text": [
      "     Unnamed: 0.3  Unnamed: 0.2  Unnamed: 0.1  Unnamed: 0    #  \\\n",
      "795           795           795           795         795  719   \n",
      "796           796           796           796         796  719   \n",
      "797           797           797           797         797  720   \n",
      "798           798           798           798         798  720   \n",
      "799           799           799           799         799  721   \n",
      "\n",
      "                    Name   Type 1 Type 2  Total  HP  Attack  Defense  Sp. Atk  \\\n",
      "795              Diancie     Rock  Fairy    600  50     100      150      100   \n",
      "796  DiancieMega Diancie     Rock  Fairy    700  50     160      110      160   \n",
      "797  HoopaHoopa Confined  Psychic  Ghost    600  80     110       60      150   \n",
      "798   HoopaHoopa Unbound  Psychic   Dark    680  80     160       60      170   \n",
      "799            Volcanion     Fire  Water    600  80     110      120      130   \n",
      "\n",
      "     Sp. Def  Speed  Generation  Legendary    avg   avg1  \n",
      "795      150     50           6       True  150.0  150.0  \n",
      "796      110    110           6       True  160.0  160.0  \n",
      "797      130     70           6       True  125.0  125.0  \n",
      "798      130     80           6       True  150.0  150.0  \n",
      "799       90     70           6       True  155.0  155.0  \n"
     ]
    }
   ],
   "source": [
    "print(pk.tail())#to fetch last 5 records"
   ]
  },
  {
   "cell_type": "code",
   "execution_count": 10,
   "id": "c1624d6b-dabf-41ca-a323-e7ab48602fb9",
   "metadata": {},
   "outputs": [
    {
     "name": "stdout",
     "output_type": "stream",
     "text": [
      "Unnamed: 0.3           2\n",
      "Unnamed: 0.2           2\n",
      "Unnamed: 0.1           2\n",
      "Unnamed: 0             2\n",
      "#                      3\n",
      "Name            Venusaur\n",
      "Type 1             Grass\n",
      "Type 2            Poison\n",
      "Total                525\n",
      "HP                    80\n",
      "Attack                82\n",
      "Defense               83\n",
      "Sp. Atk              100\n",
      "Sp. Def              100\n",
      "Speed                 80\n",
      "Generation             1\n",
      "Legendary          False\n",
      "avg                122.5\n",
      "avg1               122.5\n",
      "Name: 2, dtype: object\n"
     ]
    }
   ],
   "source": [
    "print(pk.loc[2])#to fetch single row"
   ]
  },
  {
   "cell_type": "code",
   "execution_count": 11,
   "id": "f1f13f34-bdaf-4988-a181-7e39fd23f932",
   "metadata": {},
   "outputs": [
    {
     "name": "stdout",
     "output_type": "stream",
     "text": [
      "<bound method DataFrame.info of      Unnamed: 0.3  Unnamed: 0.2  Unnamed: 0.1  Unnamed: 0    #  \\\n",
      "0               0             0             0           0    1   \n",
      "1               1             1             1           1    2   \n",
      "2               2             2             2           2    3   \n",
      "3               3             3             3           3    3   \n",
      "4               4             4             4           4    4   \n",
      "..            ...           ...           ...         ...  ...   \n",
      "795           795           795           795         795  719   \n",
      "796           796           796           796         796  719   \n",
      "797           797           797           797         797  720   \n",
      "798           798           798           798         798  720   \n",
      "799           799           799           799         799  721   \n",
      "\n",
      "                      Name   Type 1  Type 2  Total  HP  Attack  Defense  \\\n",
      "0                Bulbasaur    Grass  Poison    318  45      49       49   \n",
      "1                  Ivysaur    Grass  Poison    405  60      62       63   \n",
      "2                 Venusaur    Grass  Poison    525  80      82       83   \n",
      "3    VenusaurMega Venusaur    Grass  Poison    625  80     100      123   \n",
      "4               Charmander     Fire      10    309  39      52       43   \n",
      "..                     ...      ...     ...    ...  ..     ...      ...   \n",
      "795                Diancie     Rock   Fairy    600  50     100      150   \n",
      "796    DiancieMega Diancie     Rock   Fairy    700  50     160      110   \n",
      "797    HoopaHoopa Confined  Psychic   Ghost    600  80     110       60   \n",
      "798     HoopaHoopa Unbound  Psychic    Dark    680  80     160       60   \n",
      "799              Volcanion     Fire   Water    600  80     110      120   \n",
      "\n",
      "     Sp. Atk  Sp. Def  Speed  Generation  Legendary    avg   avg1  \n",
      "0         65       65     45           1      False   71.5   71.5  \n",
      "1         80       80     60           1      False   92.5   92.5  \n",
      "2        100      100     80           1      False  122.5  122.5  \n",
      "3        122      120     80           1      False  151.5  151.5  \n",
      "4         60       50     65           1      False   67.0   67.0  \n",
      "..       ...      ...    ...         ...        ...    ...    ...  \n",
      "795      100      150     50           6       True  150.0  150.0  \n",
      "796      160      110    110           6       True  160.0  160.0  \n",
      "797      150      130     70           6       True  125.0  125.0  \n",
      "798      170      130     80           6       True  150.0  150.0  \n",
      "799      130       90     70           6       True  155.0  155.0  \n",
      "\n",
      "[800 rows x 19 columns]>\n"
     ]
    }
   ],
   "source": [
    "print(pk.info)"
   ]
  },
  {
   "cell_type": "code",
   "execution_count": 12,
   "id": "b9f980b3-e29e-4483-b3c6-440b8ce94683",
   "metadata": {},
   "outputs": [
    {
     "name": "stdout",
     "output_type": "stream",
     "text": [
      "   Unnamed: 0.3  Unnamed: 0.2  Unnamed: 0.1  Unnamed: 0  #       Name Type 1  \\\n",
      "0             0             0             0           0  1  Bulbasaur  Grass   \n",
      "1             1             1             1           1  2    Ivysaur  Grass   \n",
      "\n",
      "   Type 2  Total  HP  Attack  Defense  Sp. Atk  Sp. Def  Speed  Generation  \\\n",
      "0  Poison    318  45      49       49       65       65     45           1   \n",
      "1  Poison    405  60      62       63       80       80     60           1   \n",
      "\n",
      "   Legendary   avg  avg1  \n",
      "0      False  71.5  71.5  \n",
      "1      False  92.5  92.5  \n"
     ]
    }
   ],
   "source": [
    "d=pk.iloc[0:2]#fetch specific rows\n",
    "print(d)"
   ]
  },
  {
   "cell_type": "code",
   "execution_count": 13,
   "id": "48531193-6d70-4b91-91db-c6f04ba5d80c",
   "metadata": {},
   "outputs": [
    {
     "name": "stdout",
     "output_type": "stream",
     "text": [
      "     Unnamed: 0.3  Unnamed: 0.2  Unnamed: 0.1  Unnamed: 0    #  \\\n",
      "0               0             0             0           0    1   \n",
      "1               1             1             1           1    2   \n",
      "2               2             2             2           2    3   \n",
      "3               3             3             3           3    3   \n",
      "4               4             4             4           4    4   \n",
      "..            ...           ...           ...         ...  ...   \n",
      "795           795           795           795         795  719   \n",
      "796           796           796           796         796  719   \n",
      "797           797           797           797         797  720   \n",
      "798           798           798           798         798  720   \n",
      "799           799           799           799         799  721   \n",
      "\n",
      "                      Name   Type 1  Type 2  Total  HP  Attack  Defense  \\\n",
      "0                Bulbasaur    Grass  Poison    318  45      49       49   \n",
      "1                  Ivysaur    Grass  Poison    405  60      62       63   \n",
      "2                 Venusaur    Grass  Poison    525  80      82       83   \n",
      "3    VenusaurMega Venusaur    Grass  Poison    625  80     100      123   \n",
      "4               Charmander     Fire      10    309  39      52       43   \n",
      "..                     ...      ...     ...    ...  ..     ...      ...   \n",
      "795                Diancie     Rock   Fairy    600  50     100      150   \n",
      "796    DiancieMega Diancie     Rock   Fairy    700  50     160      110   \n",
      "797    HoopaHoopa Confined  Psychic   Ghost    600  80     110       60   \n",
      "798     HoopaHoopa Unbound  Psychic    Dark    680  80     160       60   \n",
      "799              Volcanion     Fire   Water    600  80     110      120   \n",
      "\n",
      "     Sp. Atk  Sp. Def  Speed  Generation  Legendary    avg   avg1  \n",
      "0         65       65     45           1      False   71.5   71.5  \n",
      "1         80       80     60           1      False   92.5   92.5  \n",
      "2        100      100     80           1      False  122.5  122.5  \n",
      "3        122      120     80           1      False  151.5  151.5  \n",
      "4         60       50     65           1      False   67.0   67.0  \n",
      "..       ...      ...    ...         ...        ...    ...    ...  \n",
      "795      100      150     50           6       True  150.0  150.0  \n",
      "796      160      110    110           6       True  160.0  160.0  \n",
      "797      150      130     70           6       True  125.0  125.0  \n",
      "798      170      130     80           6       True  150.0  150.0  \n",
      "799      130       90     70           6       True  155.0  155.0  \n",
      "\n",
      "[800 rows x 19 columns]\n"
     ]
    }
   ],
   "source": [
    "newstd_data=pk.dropna()#to remove null value\n",
    "print(newstd_data)"
   ]
  },
  {
   "cell_type": "code",
   "execution_count": 14,
   "id": "a171d328-f050-47d9-8957-de59a1c3360d",
   "metadata": {},
   "outputs": [
    {
     "name": "stdout",
     "output_type": "stream",
     "text": [
      "None\n"
     ]
    }
   ],
   "source": [
    "#fill null value with 10\n",
    "newstd_data=pk.fillna(10,inplace=True)\n",
    "print(newstd_data)"
   ]
  },
  {
   "cell_type": "code",
   "execution_count": 15,
   "id": "983886a9-146a-469b-9f0c-7b23183ff020",
   "metadata": {},
   "outputs": [
    {
     "name": "stdout",
     "output_type": "stream",
     "text": [
      "0       71.5\n",
      "1       92.5\n",
      "2      122.5\n",
      "3      151.5\n",
      "4       67.0\n",
      "       ...  \n",
      "795    150.0\n",
      "796    160.0\n",
      "797    125.0\n",
      "798    150.0\n",
      "799    155.0\n",
      "Name: avg, Length: 800, dtype: float64\n"
     ]
    }
   ],
   "source": [
    "#to change specific colum with null value\n",
    "new=pk[\"avg\"].fillna(\"90.33\")\n",
    "print(new)"
   ]
  },
  {
   "cell_type": "code",
   "execution_count": 16,
   "id": "eb508f50-3741-4d94-98ec-08d409afc667",
   "metadata": {},
   "outputs": [
    {
     "name": "stdout",
     "output_type": "stream",
     "text": [
      "None\n"
     ]
    }
   ],
   "source": [
    "#modify data in same object(modify object) (update data in std_data variable)\n",
    "new=pk.fillna({\"Total\": \"90\"}, inplace=True)\n",
    "print(new)"
   ]
  },
  {
   "cell_type": "code",
   "execution_count": 17,
   "id": "035045d5-ae75-4827-8c54-a1f95c92df7a",
   "metadata": {},
   "outputs": [],
   "source": [
    "pk.to_csv('pokemon.csv')#toupdate original file"
   ]
  },
  {
   "cell_type": "code",
   "execution_count": 18,
   "id": "3f8f558a-fb1c-4347-b799-96cbbfb236b0",
   "metadata": {},
   "outputs": [
    {
     "data": {
      "text/html": [
       "<div>\n",
       "<style scoped>\n",
       "    .dataframe tbody tr th:only-of-type {\n",
       "        vertical-align: middle;\n",
       "    }\n",
       "\n",
       "    .dataframe tbody tr th {\n",
       "        vertical-align: top;\n",
       "    }\n",
       "\n",
       "    .dataframe thead th {\n",
       "        text-align: right;\n",
       "    }\n",
       "</style>\n",
       "<table border=\"1\" class=\"dataframe\">\n",
       "  <thead>\n",
       "    <tr style=\"text-align: right;\">\n",
       "      <th></th>\n",
       "      <th>Unnamed: 0.3</th>\n",
       "      <th>Unnamed: 0.2</th>\n",
       "      <th>Unnamed: 0.1</th>\n",
       "      <th>Unnamed: 0</th>\n",
       "      <th>#</th>\n",
       "      <th>Name</th>\n",
       "      <th>Type 1</th>\n",
       "      <th>Type 2</th>\n",
       "      <th>Total</th>\n",
       "      <th>HP</th>\n",
       "      <th>Attack</th>\n",
       "      <th>Defense</th>\n",
       "      <th>Sp. Atk</th>\n",
       "      <th>Sp. Def</th>\n",
       "      <th>Speed</th>\n",
       "      <th>Generation</th>\n",
       "      <th>Legendary</th>\n",
       "      <th>avg</th>\n",
       "      <th>avg1</th>\n",
       "    </tr>\n",
       "  </thead>\n",
       "  <tbody>\n",
       "    <tr>\n",
       "      <th>426</th>\n",
       "      <td>426</td>\n",
       "      <td>426</td>\n",
       "      <td>426</td>\n",
       "      <td>426</td>\n",
       "      <td>384</td>\n",
       "      <td>RayquazaMega Rayquaza</td>\n",
       "      <td>Dragon</td>\n",
       "      <td>Flying</td>\n",
       "      <td>780</td>\n",
       "      <td>105</td>\n",
       "      <td>180</td>\n",
       "      <td>100</td>\n",
       "      <td>180</td>\n",
       "      <td>100</td>\n",
       "      <td>115</td>\n",
       "      <td>3</td>\n",
       "      <td>True</td>\n",
       "      <td>192.5</td>\n",
       "      <td>192.5</td>\n",
       "    </tr>\n",
       "    <tr>\n",
       "      <th>164</th>\n",
       "      <td>164</td>\n",
       "      <td>164</td>\n",
       "      <td>164</td>\n",
       "      <td>164</td>\n",
       "      <td>150</td>\n",
       "      <td>MewtwoMega Mewtwo Y</td>\n",
       "      <td>Psychic</td>\n",
       "      <td>10</td>\n",
       "      <td>780</td>\n",
       "      <td>106</td>\n",
       "      <td>150</td>\n",
       "      <td>70</td>\n",
       "      <td>194</td>\n",
       "      <td>120</td>\n",
       "      <td>140</td>\n",
       "      <td>1</td>\n",
       "      <td>True</td>\n",
       "      <td>163.0</td>\n",
       "      <td>163.0</td>\n",
       "    </tr>\n",
       "    <tr>\n",
       "      <th>163</th>\n",
       "      <td>163</td>\n",
       "      <td>163</td>\n",
       "      <td>163</td>\n",
       "      <td>163</td>\n",
       "      <td>150</td>\n",
       "      <td>MewtwoMega Mewtwo X</td>\n",
       "      <td>Psychic</td>\n",
       "      <td>Fighting</td>\n",
       "      <td>780</td>\n",
       "      <td>106</td>\n",
       "      <td>190</td>\n",
       "      <td>100</td>\n",
       "      <td>154</td>\n",
       "      <td>100</td>\n",
       "      <td>130</td>\n",
       "      <td>1</td>\n",
       "      <td>True</td>\n",
       "      <td>198.0</td>\n",
       "      <td>198.0</td>\n",
       "    </tr>\n",
       "    <tr>\n",
       "      <th>422</th>\n",
       "      <td>422</td>\n",
       "      <td>422</td>\n",
       "      <td>422</td>\n",
       "      <td>422</td>\n",
       "      <td>382</td>\n",
       "      <td>KyogrePrimal Kyogre</td>\n",
       "      <td>Water</td>\n",
       "      <td>10</td>\n",
       "      <td>770</td>\n",
       "      <td>100</td>\n",
       "      <td>150</td>\n",
       "      <td>90</td>\n",
       "      <td>180</td>\n",
       "      <td>160</td>\n",
       "      <td>90</td>\n",
       "      <td>3</td>\n",
       "      <td>True</td>\n",
       "      <td>170.0</td>\n",
       "      <td>170.0</td>\n",
       "    </tr>\n",
       "    <tr>\n",
       "      <th>424</th>\n",
       "      <td>424</td>\n",
       "      <td>424</td>\n",
       "      <td>424</td>\n",
       "      <td>424</td>\n",
       "      <td>383</td>\n",
       "      <td>GroudonPrimal Groudon</td>\n",
       "      <td>Ground</td>\n",
       "      <td>Fire</td>\n",
       "      <td>770</td>\n",
       "      <td>100</td>\n",
       "      <td>180</td>\n",
       "      <td>160</td>\n",
       "      <td>150</td>\n",
       "      <td>90</td>\n",
       "      <td>90</td>\n",
       "      <td>3</td>\n",
       "      <td>True</td>\n",
       "      <td>220.0</td>\n",
       "      <td>220.0</td>\n",
       "    </tr>\n",
       "    <tr>\n",
       "      <th>...</th>\n",
       "      <td>...</td>\n",
       "      <td>...</td>\n",
       "      <td>...</td>\n",
       "      <td>...</td>\n",
       "      <td>...</td>\n",
       "      <td>...</td>\n",
       "      <td>...</td>\n",
       "      <td>...</td>\n",
       "      <td>...</td>\n",
       "      <td>...</td>\n",
       "      <td>...</td>\n",
       "      <td>...</td>\n",
       "      <td>...</td>\n",
       "      <td>...</td>\n",
       "      <td>...</td>\n",
       "      <td>...</td>\n",
       "      <td>...</td>\n",
       "      <td>...</td>\n",
       "      <td>...</td>\n",
       "    </tr>\n",
       "    <tr>\n",
       "      <th>13</th>\n",
       "      <td>13</td>\n",
       "      <td>13</td>\n",
       "      <td>13</td>\n",
       "      <td>13</td>\n",
       "      <td>10</td>\n",
       "      <td>Caterpie</td>\n",
       "      <td>Bug</td>\n",
       "      <td>10</td>\n",
       "      <td>195</td>\n",
       "      <td>45</td>\n",
       "      <td>30</td>\n",
       "      <td>35</td>\n",
       "      <td>20</td>\n",
       "      <td>20</td>\n",
       "      <td>45</td>\n",
       "      <td>1</td>\n",
       "      <td>False</td>\n",
       "      <td>55.0</td>\n",
       "      <td>55.0</td>\n",
       "    </tr>\n",
       "    <tr>\n",
       "      <th>288</th>\n",
       "      <td>288</td>\n",
       "      <td>288</td>\n",
       "      <td>288</td>\n",
       "      <td>288</td>\n",
       "      <td>265</td>\n",
       "      <td>Wurmple</td>\n",
       "      <td>Bug</td>\n",
       "      <td>10</td>\n",
       "      <td>195</td>\n",
       "      <td>45</td>\n",
       "      <td>45</td>\n",
       "      <td>35</td>\n",
       "      <td>20</td>\n",
       "      <td>30</td>\n",
       "      <td>20</td>\n",
       "      <td>3</td>\n",
       "      <td>False</td>\n",
       "      <td>62.5</td>\n",
       "      <td>62.5</td>\n",
       "    </tr>\n",
       "    <tr>\n",
       "      <th>446</th>\n",
       "      <td>446</td>\n",
       "      <td>446</td>\n",
       "      <td>446</td>\n",
       "      <td>446</td>\n",
       "      <td>401</td>\n",
       "      <td>Kricketot</td>\n",
       "      <td>Bug</td>\n",
       "      <td>10</td>\n",
       "      <td>194</td>\n",
       "      <td>37</td>\n",
       "      <td>25</td>\n",
       "      <td>41</td>\n",
       "      <td>25</td>\n",
       "      <td>41</td>\n",
       "      <td>25</td>\n",
       "      <td>4</td>\n",
       "      <td>False</td>\n",
       "      <td>51.5</td>\n",
       "      <td>51.5</td>\n",
       "    </tr>\n",
       "    <tr>\n",
       "      <th>322</th>\n",
       "      <td>322</td>\n",
       "      <td>322</td>\n",
       "      <td>322</td>\n",
       "      <td>322</td>\n",
       "      <td>298</td>\n",
       "      <td>Azurill</td>\n",
       "      <td>Normal</td>\n",
       "      <td>Fairy</td>\n",
       "      <td>190</td>\n",
       "      <td>50</td>\n",
       "      <td>20</td>\n",
       "      <td>40</td>\n",
       "      <td>20</td>\n",
       "      <td>40</td>\n",
       "      <td>20</td>\n",
       "      <td>3</td>\n",
       "      <td>False</td>\n",
       "      <td>55.0</td>\n",
       "      <td>55.0</td>\n",
       "    </tr>\n",
       "    <tr>\n",
       "      <th>206</th>\n",
       "      <td>206</td>\n",
       "      <td>206</td>\n",
       "      <td>206</td>\n",
       "      <td>206</td>\n",
       "      <td>191</td>\n",
       "      <td>Sunkern</td>\n",
       "      <td>Grass</td>\n",
       "      <td>10</td>\n",
       "      <td>180</td>\n",
       "      <td>30</td>\n",
       "      <td>30</td>\n",
       "      <td>30</td>\n",
       "      <td>30</td>\n",
       "      <td>30</td>\n",
       "      <td>30</td>\n",
       "      <td>2</td>\n",
       "      <td>False</td>\n",
       "      <td>45.0</td>\n",
       "      <td>45.0</td>\n",
       "    </tr>\n",
       "  </tbody>\n",
       "</table>\n",
       "<p>800 rows × 19 columns</p>\n",
       "</div>"
      ],
      "text/plain": [
       "     Unnamed: 0.3  Unnamed: 0.2  Unnamed: 0.1  Unnamed: 0    #  \\\n",
       "426           426           426           426         426  384   \n",
       "164           164           164           164         164  150   \n",
       "163           163           163           163         163  150   \n",
       "422           422           422           422         422  382   \n",
       "424           424           424           424         424  383   \n",
       "..            ...           ...           ...         ...  ...   \n",
       "13             13            13            13          13   10   \n",
       "288           288           288           288         288  265   \n",
       "446           446           446           446         446  401   \n",
       "322           322           322           322         322  298   \n",
       "206           206           206           206         206  191   \n",
       "\n",
       "                      Name   Type 1    Type 2  Total   HP  Attack  Defense  \\\n",
       "426  RayquazaMega Rayquaza   Dragon    Flying    780  105     180      100   \n",
       "164    MewtwoMega Mewtwo Y  Psychic        10    780  106     150       70   \n",
       "163    MewtwoMega Mewtwo X  Psychic  Fighting    780  106     190      100   \n",
       "422    KyogrePrimal Kyogre    Water        10    770  100     150       90   \n",
       "424  GroudonPrimal Groudon   Ground      Fire    770  100     180      160   \n",
       "..                     ...      ...       ...    ...  ...     ...      ...   \n",
       "13                Caterpie      Bug        10    195   45      30       35   \n",
       "288                Wurmple      Bug        10    195   45      45       35   \n",
       "446              Kricketot      Bug        10    194   37      25       41   \n",
       "322                Azurill   Normal     Fairy    190   50      20       40   \n",
       "206                Sunkern    Grass        10    180   30      30       30   \n",
       "\n",
       "     Sp. Atk  Sp. Def  Speed  Generation  Legendary    avg   avg1  \n",
       "426      180      100    115           3       True  192.5  192.5  \n",
       "164      194      120    140           1       True  163.0  163.0  \n",
       "163      154      100    130           1       True  198.0  198.0  \n",
       "422      180      160     90           3       True  170.0  170.0  \n",
       "424      150       90     90           3       True  220.0  220.0  \n",
       "..       ...      ...    ...         ...        ...    ...    ...  \n",
       "13        20       20     45           1      False   55.0   55.0  \n",
       "288       20       30     20           3      False   62.5   62.5  \n",
       "446       25       41     25           4      False   51.5   51.5  \n",
       "322       20       40     20           3      False   55.0   55.0  \n",
       "206       30       30     30           2      False   45.0   45.0  \n",
       "\n",
       "[800 rows x 19 columns]"
      ]
     },
     "execution_count": 18,
     "metadata": {},
     "output_type": "execute_result"
    }
   ],
   "source": [
    "# to sort data in asending order1\n",
    "pk.sort_values(['Total'],ascending=1)\n",
    "\n",
    "# to sort data in descending order0\n",
    "pk.sort_values(['Total'],ascending=0)"
   ]
  },
  {
   "cell_type": "code",
   "execution_count": 19,
   "id": "a0fd3572-9fe1-409c-beff-21b0e36efaf6",
   "metadata": {},
   "outputs": [
    {
     "data": {
      "text/plain": [
       "<function matplotlib.pyplot.show(close=None, block=None)>"
      ]
     },
     "execution_count": 19,
     "metadata": {},
     "output_type": "execute_result"
    },
    {
     "data": {
      "image/png": "[encoded data removed]",
      "text/plain": [
       "<Figure size 640x480 with 1 Axes>"
      ]
     },
     "metadata": {},
     "output_type": "display_data"
    }
   ],
   "source": [
    "pk.plot()#to create visual presentation of data\n",
    "plt.show"
   ]
  },
  {
   "cell_type": "code",
   "execution_count": 20,
   "id": "dfae6d13-1d6f-4bd1-ac62-3cc7e9ba4c4f",
   "metadata": {},
   "outputs": [
    {
     "data": {
      "image/png": "[encoded data removed]",
      "text/plain": [
       "<Figure size 640x480 with 1 Axes>"
      ]
     },
     "metadata": {},
     "output_type": "display_data"
    }
   ],
   "source": [
    "pk.plot(kind=\"scatter\",x='Name',y='Total')\n",
    "plt.show()"
   ]
  },
  {
   "cell_type": "code",
   "execution_count": 21,
   "id": "999b0b7b-b523-48db-bd22-081ab4291721",
   "metadata": {},
   "outputs": [
    {
     "data": {
      "text/plain": [
       "<Axes: ylabel='Frequency'>"
      ]
     },
     "execution_count": 21,
     "metadata": {},
     "output_type": "execute_result"
    },
    {
     "data": {
      "image/png": "[encoded data removed]",
      "text/plain": [
       "<Figure size 640x480 with 1 Axes>"
      ]
     },
     "metadata": {},
     "output_type": "display_data"
    }
   ],
   "source": [
    "pk['avg'].plot(kind='hist')#kind use to define type"
   ]
  },
  {
   "cell_type": "code",
   "execution_count": 22,
   "id": "70762108-c8e1-4d4e-ac34-f2ab7384ae7f",
   "metadata": {},
   "outputs": [
    {
     "name": "stdout",
     "output_type": "stream",
     "text": [
      "[10, 20, 30, 40, 50]\n",
      "40\n"
     ]
    }
   ],
   "source": [
    "a=[10,20,30,40,50]\n",
    "s1=pd.Series(a,index=[\"11\",\"12\",\"13\",\"14\",\"15\"]) #to change index\n",
    "print(a)\n",
    "print(a[3])\n",
    "#display data of third index"
   ]
  },
  {
   "cell_type": "code",
   "execution_count": 23,
   "id": "281b998c-64a9-4c5e-9ed6-bca00d3efb00",
   "metadata": {},
   "outputs": [
    {
     "name": "stdout",
     "output_type": "stream",
     "text": [
      "11    10\n",
      "12    20\n",
      "13    30\n",
      "14    40\n",
      "15    50\n",
      "dtype: int64\n",
      "30\n"
     ]
    }
   ],
   "source": [
    "print(s1)\n",
    "print(s1[\"13\"]) #to find specific index"
   ]
  },
  {
   "cell_type": "code",
   "execution_count": 24,
   "id": "70066565-a207-48f8-ba96-8f517a66b593",
   "metadata": {},
   "outputs": [
    {
     "name": "stdout",
     "output_type": "stream",
     "text": [
      "{'AIML': 4, 'CCN': 4, 'WS': 3, 'CS': 4}\n",
      "AIML    4\n",
      "CCN     4\n",
      "WS      3\n",
      "CS      4\n",
      "dtype: int64\n",
      "4\n"
     ]
    }
   ],
   "source": [
    "keyval={\"AIML\":4,\"CCN\":4,\"WS\":3,\"CS\":4}\n",
    "print(keyval)\n",
    "key=pd.Series(keyval)\n",
    "print(key)\n",
    "print(key[\"CCN\"])"
   ]
  },
  {
   "cell_type": "code",
   "execution_count": 25,
   "id": "51e60604-a9cd-4ab2-b03a-ef462932db21",
   "metadata": {},
   "outputs": [
    {
     "name": "stdout",
     "output_type": "stream",
     "text": [
      "{'student': ['aiml', 'ccn', 'ws', 'cs'], 'marks': [90, 89, 99, 98]}\n"
     ]
    }
   ],
   "source": [
    "std={\"student\":[\"aiml\",\"ccn\",\"ws\",\"cs\"],\"marks\":[90,89,99,98]}\n",
    "print(std)"
   ]
  },
  {
   "cell_type": "code",
   "execution_count": 26,
   "id": "61bc04ea-faac-47c2-bef8-bd4b87dc1265",
   "metadata": {},
   "outputs": [
    {
     "name": "stdout",
     "output_type": "stream",
     "text": [
      "  student  marks\n",
      "0    aiml     90\n",
      "1     ccn     89\n",
      "2      ws     99\n",
      "3      cs     98\n",
      "student    cs\n",
      "marks      98\n",
      "Name: 3, dtype: object\n"
     ]
    }
   ],
   "source": [
    "#to create data frame which store data intabular Format\n",
    "dfstd=pd.DataFrame(std)\n",
    "print(dfstd)\n",
    "print(dfstd.loc[3])"
   ]
  }
 ],
 "metadata": {
  "kernelspec": {
   "display_name": "Python 3 (ipykernel)",
   "language": "python",
   "name": "python3"
  },
  "language_info": {
   "codemirror_mode": {
    "name": "ipython",
    "version": 3
   },
   "file_extension": ".py",
   "mimetype": "text/x-python",
   "name": "python",
   "nbconvert_exporter": "python",
   "pygments_lexer": "ipython3",
   "version": "3.11.4"
  }
 },
 "nbformat": 4,
 "nbformat_minor": 5
}
